{
 "cells": [
  {
   "cell_type": "markdown",
   "metadata": {},
   "source": [
    "# Pengenalan Dasar Pemrograman Python\n",
    "\n",
    "oleh: Muon Edukasi (www.muonedu.com)\n",
    "\n",
    "Pemrograman merupakan cara berkomunikasi dalam menyelesaikan masalah menggunakan bahasa yang terstruktur.\n",
    "Python merupakan bahasa pemrograman yang bersifat object oriented.\n",
    "komputasi terdiri dari 3 konsep pokok, yakni simpan, proses, dan ambil.\n",
    "ketiga proses ini merupakan konsep dasar dalam pengembangan program."
   ]
  },
  {
   "cell_type": "code",
   "execution_count": 1,
   "metadata": {},
   "outputs": [
    {
     "name": "stdout",
     "output_type": "stream",
     "text": [
      "Hello, world!\n"
     ]
    }
   ],
   "source": [
    "print(\"Hello, world!\")"
   ]
  },
  {
   "cell_type": "markdown",
   "metadata": {},
   "source": [
    "Pada materi pertama ini, kita akan membahas mengenai:\n",
    "\n",
    "- Berkenalan dengan Python dan pemrograman\n",
    "- Hello, World\n",
    "- Variabel\n",
    "- Indentasi\n",
    "- Operasi\n",
    "- Tipe data\n",
    "- Objek\n",
    "- Fungsi"
   ]
  },
  {
   "cell_type": "markdown",
   "metadata": {},
   "source": [
    "Berkenalan dengan Python dan pemrograman\n",
    "---\n",
    "\n",
    "Python merupakan bahasa pemrograman yang memiliki sintaks yang mudah dipahami dan struktur bahasa yang bisa dipelajari dalam waktu yang relatif cepat. Untuk berkenalan dengan Python, kita perlu menginstal program yang disebut interpreter dan IDLE di https://www.python.org. Download program yang sesuai dengan sistem operasi dan arsitektur CPU.\n",
    "\n",
    "Setelah melakukan instalasi, buka program IDLE. IDLE merupakan singkatan dari Integrated Development and Learning Environment atau Lingkungan pengembangan dan pembelajaran terintegrasi. "
   ]
  },
  {
   "cell_type": "markdown",
   "metadata": {},
   "source": [
    "Hello, world!\n",
    "---\n",
    "\n",
    "Hello, world merupakan budaya yang dilakukan oleh pemrogram ketika berkenalan dengan sebuah bahasa pemrograman. Pada python, untuk menampilkan sesuatu di layar, digunakan perintah `print`."
   ]
  },
  {
   "cell_type": "code",
   "execution_count": 5,
   "metadata": {},
   "outputs": [
    {
     "name": "stdout",
     "output_type": "stream",
     "text": [
      "1\n",
      "hello\n",
      "world\n",
      "hai, dunia!\n",
      "Sekarang hari Jum'at\n"
     ]
    }
   ],
   "source": [
    "print(1)\n",
    "print(\"hello\", \"world\", sep='\\n')\n",
    "print('hai, dunia!')\n",
    "print(\"Sekarang hari Jum'at\")"
   ]
  },
  {
   "cell_type": "markdown",
   "metadata": {},
   "source": [
    "Variabel\n",
    "---\n",
    "\n",
    "Variabel berkaitan dengan penyimpanan dan pengambilan data pada memori komputer. \n",
    "Python menganut duck typing, pengenalan struktur data secara implisit tidak diperlukan \n",
    "karena struktur data akan dikenali oleh penerjemah (interpreter). Ini yang membuat Python\n",
    "menjadi mudah dipelajari oleh pemula."
   ]
  },
  {
   "cell_type": "code",
   "execution_count": 1,
   "metadata": {},
   "outputs": [
    {
     "name": "stdout",
     "output_type": "stream",
     "text": [
      "1\n",
      "2\n"
     ]
    }
   ],
   "source": [
    "a = 1\n",
    "b = 2\n",
    "\n",
    "print(a)\n",
    "print(b)"
   ]
  },
  {
   "cell_type": "code",
   "execution_count": 5,
   "metadata": {},
   "outputs": [
    {
     "name": "stdout",
     "output_type": "stream",
     "text": [
      "1 2 3\n"
     ]
    }
   ],
   "source": [
    "a = 1\n",
    "b = 2\n",
    "c = a + b\n",
    "print(a, b, c)"
   ]
  },
  {
   "cell_type": "code",
   "execution_count": 6,
   "metadata": {},
   "outputs": [
    {
     "data": {
      "text/plain": [
       "int"
      ]
     },
     "execution_count": 6,
     "metadata": {},
     "output_type": "execute_result"
    }
   ],
   "source": [
    "type(a)"
   ]
  },
  {
   "cell_type": "markdown",
   "metadata": {},
   "source": [
    "Indentasi\n",
    "---\n",
    "Indentasi merupakan struktur dalam python untuk membedakan scope dari sebuah statement.\n",
    "Indentasi pada python berupa satu buah tab atau 4 buah spasi, tidak boleh digabung.\n",
    "\n",
    "```\n",
    "def tambah(a, b):\n",
    "    return a + b\n",
    "```\n"
   ]
  },
  {
   "cell_type": "markdown",
   "metadata": {},
   "source": [
    "Operasi Matematika Dasar\n",
    "---\n",
    "\n",
    "- penjumlahan `1 + 1`\n",
    "\n",
    "- pengurangan `3 - 1`\n",
    "\n",
    "- pembagian `1/1`\n",
    "\n",
    "- perkalian `3 * 4`\n",
    "\n",
    "- pangkat `10**8`\n",
    "\n",
    "- modulus `5%4`\n",
    "\n",
    "\n"
   ]
  },
  {
   "cell_type": "code",
   "execution_count": 8,
   "metadata": {},
   "outputs": [
    {
     "name": "stdout",
     "output_type": "stream",
     "text": [
      "22\n",
      "18\n",
      "40\n",
      "10.0\n",
      "400\n",
      "0\n"
     ]
    }
   ],
   "source": [
    "a = 20\n",
    "b = 2\n",
    "print(a+b)\n",
    "print(a-b)\n",
    "print(a*b)\n",
    "print(a/b)\n",
    "print(a**b)\n",
    "print(a%b)"
   ]
  },
  {
   "cell_type": "markdown",
   "metadata": {},
   "source": [
    "Operasi Komparasi\n",
    "---\n",
    "\n",
    "- sama dengan `1 == 1`\n",
    "\n",
    "- tidak sama dengan `1 != 2`\n",
    "\n",
    "- besar dari `3 > 2`\n",
    "\n",
    "- kecil dari `3 < 5`\n",
    "\n",
    "- besar sama dengan `4 >= 5`\n",
    "\n",
    "- kecil sama dengan `5 <= 3`\n",
    "\n",
    "\n",
    "\n"
   ]
  },
  {
   "cell_type": "code",
   "execution_count": 12,
   "metadata": {},
   "outputs": [
    {
     "name": "stdout",
     "output_type": "stream",
     "text": [
      "True\n",
      "True\n",
      "True\n",
      "True\n",
      "False\n",
      "False\n"
     ]
    }
   ],
   "source": [
    "print(1==1)\n",
    "print(1 != 2)\n",
    "print(3 > 2)\n",
    "print(3 < 5)\n",
    "print(4 >= 5)\n",
    "print(5 <= 3)"
   ]
  },
  {
   "cell_type": "markdown",
   "metadata": {},
   "source": [
    "Operasi assignment\n",
    "---\n",
    "\n",
    "- Assignemnt `a = 1`\n",
    "- Increment `a += 2`\n",
    "- Decrement `a -= 3`\n",
    "- Perkalian `a *= 5`\n",
    "\n",
    "Tipe Data\n",
    "---\n",
    "\n",
    "- Integer\n",
    "- Float\n",
    "- Boolean\n",
    "- String\n",
    "- List\n",
    "- Tupple \n",
    "- Set\n",
    "- Dictionary\n"
   ]
  },
  {
   "cell_type": "code",
   "execution_count": null,
   "metadata": {},
   "outputs": [],
   "source": []
  }
 ],
 "metadata": {
  "kernelspec": {
   "display_name": "Python 3",
   "language": "python",
   "name": "python3"
  },
  "language_info": {
   "codemirror_mode": {
    "name": "ipython",
    "version": 3
   },
   "file_extension": ".py",
   "mimetype": "text/x-python",
   "name": "python",
   "nbconvert_exporter": "python",
   "pygments_lexer": "ipython3",
   "version": "3.7.3"
  }
 },
 "nbformat": 4,
 "nbformat_minor": 2
}
