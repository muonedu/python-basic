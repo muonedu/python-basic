{
 "cells": [
  {
   "cell_type": "markdown",
   "metadata": {},
   "source": [
    "# Python Basic Pertemuan #3\n",
    "\n",
    "oleh: Muon Edukasi (www.muonedu.com)\n",
    "\n",
    "**Link Materi**\n",
    "\n",
    "https://github.com/muonedu/python-basic\n",
    "\n",
    "\n",
    "**Mentor**:\n",
    "\n",
    "- Vicky Dasta\n",
    "- Ikhsan Rahman\n",
    "\n",
    "**Overview**:\n",
    "\n",
    "- Modular programming\n",
    "- Pip\n",
    "- Membaca dan menulis berkas\n",
    "- Error handling\n",
    "- Iterable, iterator dan generator\n",
    "- Mutable dan immutable\n",
    "- Fungsi lambda\n",
    "\n",
    "**Waktu**: \n",
    "\n",
    "120 menit\n"
   ]
  },
  {
   "cell_type": "markdown",
   "metadata": {},
   "source": [
    "Modular programming\n",
    "---\n",
    "\n",
    "Modular programming artinya memisahkan kode menjadi beberapa bagian, tujuannya agar memudahkan dalam memantain kode tersebut. Pemanggilan struktur kode yang dipisah dilakukan dengan menggunakan perintah `import`. \n",
    "\n",
    "`sum.py`\n",
    "\n",
    "```\n",
    "def sum_list(x):\n",
    "   sum = 0\n",
    "   for i in x:\n",
    "      sum += i\n",
    "   return sum\n",
    "```\n",
    "\n",
    "`main.py`\n",
    "\n",
    "```\n",
    "from sum import sum_list\n",
    "\n",
    "x = list(range(10))\n",
    "print(sum_list(x))\n",
    "```\n",
    "\n",
    "Python memiliki standar library, antara lain:\n",
    "\n",
    "- `math` operasi matematika\n",
    "- `random` operasi pengacakan\n",
    "- `hashlib` operasi kriptografi\n",
    "- `string` operasi string/teks\n",
    "- ... "
   ]
  },
  {
   "cell_type": "markdown",
   "metadata": {},
   "source": [
    "Pengenalan pip\n",
    "---\n",
    "\n",
    "Pip adalah paket manager untuk manajemen pustaka/library external pada Python. Pip digunakan untuk menginstall pustaka/library yang tidak ada pada Python standard libary. "
   ]
  },
  {
   "cell_type": "markdown",
   "metadata": {},
   "source": [
    "Membaca dan menulis berkas\n",
    "---\n",
    "\n",
    "berkenalan dengan `open` dan atribute pengaksesan berkas seperti:\n",
    "\n",
    "- `w` write\n",
    "- `wb` write binary\n",
    "- `a` append\n",
    "- `r` read"
   ]
  },
  {
   "cell_type": "code",
   "execution_count": 7,
   "metadata": {},
   "outputs": [],
   "source": [
    "f = open('a.txt', 'a+')\n",
    "f.write('hello world\\n')\n",
    "f.close()"
   ]
  },
  {
   "cell_type": "code",
   "execution_count": 8,
   "metadata": {},
   "outputs": [
    {
     "name": "stdout",
     "output_type": "stream",
     "text": [
      "9\n"
     ]
    }
   ],
   "source": [
    "f = open('a.txt', 'r')\n",
    "data = f.readlines()\n",
    "print(len(data))"
   ]
  },
  {
   "cell_type": "markdown",
   "metadata": {},
   "source": [
    "Error handling\n",
    "---\n",
    "\n",
    "berkenalan dengan `try` dan `except` "
   ]
  },
  {
   "cell_type": "code",
   "execution_count": 1,
   "metadata": {},
   "outputs": [
    {
     "name": "stdout",
     "output_type": "stream",
     "text": [
      "list index out of range\n"
     ]
    }
   ],
   "source": [
    "x = [0, 1]\n",
    "\n",
    "try:\n",
    "    c = x[3]\n",
    "    print(c)\n",
    "except Exception as err:\n",
    "    print(err)"
   ]
  },
  {
   "cell_type": "markdown",
   "metadata": {},
   "source": [
    "Iterable, iterator dan generator\n",
    "---"
   ]
  },
  {
   "cell_type": "code",
   "execution_count": 11,
   "metadata": {},
   "outputs": [
    {
     "name": "stdout",
     "output_type": "stream",
     "text": [
      "0\n",
      "1\n",
      "2\n",
      "3\n",
      "4\n",
      "5\n",
      "6\n",
      "7\n",
      "8\n",
      "9\n"
     ]
    }
   ],
   "source": [
    "def gen(n):\n",
    "    for i in range(n):\n",
    "        yield i\n",
    "\n",
    "n = gen(10)\n",
    "\n",
    "for i in n:\n",
    "    print(i)"
   ]
  },
  {
   "cell_type": "markdown",
   "metadata": {},
   "source": [
    "Mutable dan immutable\n",
    "---\n",
    "\n",
    "Konsep mutable berhubungan dengan apakah suatu data bisa diupdate isinya atau tidak. Mutable artinya data bisa diupdate isinya, sebaliknya immutable merupakan sifat dari data yang isinya tidak dapat diupdate kembali setelah dibuat.\n"
   ]
  },
  {
   "cell_type": "markdown",
   "metadata": {},
   "source": [
    "Fungsi lambda\n",
    "---\n",
    "\n",
    "Lambda merupakan keyword untuk membuat inline function. \n",
    "\n",
    "sintaks:\n",
    "\n",
    "```\n",
    "nama_fungsi = lambda parameter1, parameter_2: operasi param1 dan param 2\n",
    "```\n",
    "\n",
    "fungsi di atas dipanggil dengan cara berikut:\n",
    "\n",
    "```\n",
    "nilai = nama_fungsi(param1, param2)\n",
    "```"
   ]
  },
  {
   "cell_type": "code",
   "execution_count": 2,
   "metadata": {},
   "outputs": [
    {
     "name": "stdout",
     "output_type": "stream",
     "text": [
      "4\n"
     ]
    }
   ],
   "source": [
    "x = lambda n: n+2\n",
    "print(x(2))"
   ]
  }
 ],
 "metadata": {
  "kernelspec": {
   "display_name": "Python 3",
   "language": "python",
   "name": "python3"
  },
  "language_info": {
   "codemirror_mode": {
    "name": "ipython",
    "version": 3
   },
   "file_extension": ".py",
   "mimetype": "text/x-python",
   "name": "python",
   "nbconvert_exporter": "python",
   "pygments_lexer": "ipython3",
   "version": "3.7.3"
  }
 },
 "nbformat": 4,
 "nbformat_minor": 2
}
