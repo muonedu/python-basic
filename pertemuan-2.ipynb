{
 "cells": [
  {
   "cell_type": "markdown",
   "metadata": {},
   "source": [
    "# Pengenalan Dasar Pemrograman Python\n",
    "\n",
    "oleh: Muon Edukasi (www.muonedu.com)\n",
    "\n",
    "Pada bagian kedua, akan dibahas mengenai:\n",
    "\n",
    "- Command line, text editor, dan Python\n",
    "- Fungsi dan Class\n",
    "- Control flow \n",
    "- Pendalaman dan penggunaan tipe data pada contoh kasus\n",
    "- Pengenalan pengembangan web menggunakan Flask\n",
    "---"
   ]
  },
  {
   "cell_type": "markdown",
   "metadata": {},
   "source": [
    "Command line, text editor dan Python\n",
    "---\n",
    "\n",
    "Pada pengembangan software, digunakan tools seperti command line dan text editor untuk melakukan editing dan eksekusi script Python menggunakan interpreter Python. Pada kelas ini akan digunakan text editor sublime text, penggunaan editor lain dipersilahkan menurut preferensi masing-masing. "
   ]
  },
  {
   "cell_type": "markdown",
   "metadata": {},
   "source": [
    "Fungsi dan Class\n",
    "---\n",
    "\n",
    "Fungsi merupakan struktur pada program yang melakukan operasi tertentu, sebuah fungsi dapat memiliki satu atau lebih parameter, dan dapat tidak memiliki parameter. Penentuan ada atau tidaknya parameter pada sebuah fungsi ditentukan menurut tujuan dari fungsi tersebut. "
   ]
  },
  {
   "cell_type": "code",
   "execution_count": 2,
   "metadata": {},
   "outputs": [
    {
     "name": "stdout",
     "output_type": "stream",
     "text": [
      "2\n"
     ]
    }
   ],
   "source": [
    "def add(a, b):\n",
    "    return a * b\n",
    "\n",
    "def add(*args):\n",
    "    sum = \n",
    "def main():\n",
    "    print(add(1, 2))\n",
    "\n",
    "main()"
   ]
  },
  {
   "cell_type": "code",
   "execution_count": 6,
   "metadata": {},
   "outputs": [
    {
     "name": "stdout",
     "output_type": "stream",
     "text": [
      "8\n",
      "15\n",
      "1.6666666666666667\n",
      "2\n"
     ]
    }
   ],
   "source": [
    "class Operation:\n",
    "    def __init__(self, a, b):\n",
    "        self.a = a\n",
    "        self.b = b\n",
    "    def add(self):\n",
    "        return self.a + self.b\n",
    "    def mul(self):\n",
    "        return self.a * self.b\n",
    "    def div(self):\n",
    "        return self.a / self.b\n",
    "    def sub(self):\n",
    "        return self.a - self.b\n",
    "\n",
    "m = Operation(5, 3)\n",
    "print(m.add())\n",
    "print(m.mul())\n",
    "print(m.div())\n",
    "print(m.sub())"
   ]
  },
  {
   "cell_type": "markdown",
   "metadata": {},
   "source": [
    "Control flow\n",
    "---\n",
    "\n",
    "- if **(satu pernyataan, satu operasi)**\n",
    "- if else **(dua pernyataan, dua operasi)**\n",
    "- if elif else **(tiga pernyataan, tiga operasi)**\n",
    "- for \n",
    "- while\n",
    "- break\n",
    "- continue\n",
    "- pass"
   ]
  },
  {
   "cell_type": "code",
   "execution_count": 10,
   "metadata": {},
   "outputs": [
    {
     "name": "stdout",
     "output_type": "stream",
     "text": [
      "hello!\n"
     ]
    }
   ],
   "source": [
    "a = 1\n",
    "\n",
    "if a > 0:\n",
    "    print(\"hello!\")"
   ]
  },
  {
   "cell_type": "code",
   "execution_count": 12,
   "metadata": {},
   "outputs": [
    {
     "name": "stdout",
     "output_type": "stream",
     "text": [
      "world\n"
     ]
    }
   ],
   "source": [
    "a = 2 \n",
    "\n",
    "if a < 1:\n",
    "    print(\"hello\")\n",
    "else:\n",
    "    print(\"world\")"
   ]
  },
  {
   "cell_type": "code",
   "execution_count": 14,
   "metadata": {},
   "outputs": [
    {
     "name": "stdout",
     "output_type": "stream",
     "text": [
      "beeep!\n"
     ]
    }
   ],
   "source": [
    "a = 3\n",
    "\n",
    "if a > 4:\n",
    "    print(\"hello\")\n",
    "elif a > 5:\n",
    "    print(\"world\")\n",
    "else:\n",
    "    print(\"beeep!\")"
   ]
  },
  {
   "cell_type": "code",
   "execution_count": 21,
   "metadata": {},
   "outputs": [
    {
     "name": "stdout",
     "output_type": "stream",
     "text": [
      "0\n",
      "1\n",
      "2\n",
      "3\n",
      "4\n"
     ]
    }
   ],
   "source": [
    "for i in range(5):\n",
    "    print(i)"
   ]
  },
  {
   "cell_type": "code",
   "execution_count": 23,
   "metadata": {},
   "outputs": [
    {
     "name": "stdout",
     "output_type": "stream",
     "text": [
      "0\n",
      "1\n",
      "2\n",
      "3\n",
      "4\n",
      "5\n"
     ]
    }
   ],
   "source": [
    "for i in range(10):\n",
    "    print(i)\n",
    "    if i == 5:\n",
    "        break"
   ]
  },
  {
   "cell_type": "code",
   "execution_count": 20,
   "metadata": {},
   "outputs": [
    {
     "name": "stdout",
     "output_type": "stream",
     "text": [
      "0\n",
      "1\n",
      "2\n",
      "3\n",
      "4\n"
     ]
    }
   ],
   "source": [
    "a = 0\n",
    "while a < 5:\n",
    "    print(a)\n",
    "    a += 1"
   ]
  },
  {
   "cell_type": "markdown",
   "metadata": {},
   "source": [
    "Pendalaman dan penggunaan tipe data pada contoh kasus\n",
    "---"
   ]
  },
  {
   "cell_type": "markdown",
   "metadata": {},
   "source": [
    "Pengenalan pengembangan web menggunakan Flask\n",
    "---\n",
    "\n",
    "Download https://github.com/muonedu/pend.ek"
   ]
  },
  {
   "cell_type": "code",
   "execution_count": null,
   "metadata": {},
   "outputs": [],
   "source": []
  }
 ],
 "metadata": {
  "kernelspec": {
   "display_name": "Python 3",
   "language": "python",
   "name": "python3"
  },
  "language_info": {
   "codemirror_mode": {
    "name": "ipython",
    "version": 3
   },
   "file_extension": ".py",
   "mimetype": "text/x-python",
   "name": "python",
   "nbconvert_exporter": "python",
   "pygments_lexer": "ipython3",
   "version": "3.7.3"
  }
 },
 "nbformat": 4,
 "nbformat_minor": 2
}
